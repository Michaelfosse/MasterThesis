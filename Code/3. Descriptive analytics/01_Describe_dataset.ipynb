{
 "cells": [
  {
   "cell_type": "code",
   "execution_count": 57,
   "metadata": {},
   "outputs": [],
   "source": [
    "import pandas as pd"
   ]
  },
  {
   "cell_type": "code",
   "execution_count": 58,
   "metadata": {},
   "outputs": [],
   "source": [
    "old_data = pd.read_excel(\"references/image_info.xlsx\")\n",
    "new_data = pd.read_excel(\"references/NEW_Image_info.xlsx\")"
   ]
  },
  {
   "cell_type": "markdown",
   "metadata": {},
   "source": [
    "MIGHT BE CHANGED"
   ]
  },
  {
   "cell_type": "code",
   "execution_count": 59,
   "metadata": {},
   "outputs": [
    {
     "name": "stdout",
     "output_type": "stream",
     "text": [
      "(315, 29)\n",
      "EMCI    108\n",
      "CN      104\n",
      "LMCI     56\n",
      "SMC      24\n",
      "AD       22\n",
      "MCI       1\n",
      "Name: Research Group, dtype: int64\n"
     ]
    }
   ],
   "source": [
    "import pandas as pd\n",
    "import numpy as np\n",
    "\n",
    "# Ensure reproducibility\n",
    "np.random.seed(42)\n",
    "\n",
    "# Filter rows where Research Group is 'MCI'\n",
    "mci_rows = old_data[old_data['Research Group'] == 'MCI']\n",
    "\n",
    "# Sample 32 random rows from those filtered rows\n",
    "rows_to_remove = mci_rows.sample(n=41)\n",
    "\n",
    "# Drop these rows from the original DataFrame\n",
    "old_data = old_data.drop(rows_to_remove.index)\n",
    "\n",
    "# Verify changes by displaying the shape of old_data and counts of Research Group\n",
    "print(old_data.shape)\n",
    "print(old_data['Research Group'].value_counts())\n"
   ]
  },
  {
   "cell_type": "code",
   "execution_count": 60,
   "metadata": {},
   "outputs": [],
   "source": [
    "# Rename the 'Subject ID' column to 'Subject' in the new_data DataFrame\n",
    "new_data.rename(columns={'Subject ID': 'Subject'}, inplace=True)\n",
    "\n",
    "# Verify the renaming by checking the columns of new"
   ]
  },
  {
   "cell_type": "code",
   "execution_count": 61,
   "metadata": {},
   "outputs": [],
   "source": [
    "subject_columns = ['Subject', 'Research Group', 'Age']"
   ]
  },
  {
   "cell_type": "code",
   "execution_count": 62,
   "metadata": {},
   "outputs": [
    {
     "name": "stdout",
     "output_type": "stream",
     "text": [
      "      Subject Research Group   Age Sex\n",
      "0  002_S_0295             CN  90.0   M\n",
      "2  002_S_0413             CN  81.5   F\n",
      "4  002_S_0685             CN  95.8   F\n",
      "6  002_S_1261             CN  75.3   F\n",
      "8  002_S_1280             CN  75.1   F\n"
     ]
    }
   ],
   "source": [
    "import pandas as pd\n",
    "\n",
    "# Define the columns you want to keep\n",
    "subject_columns = ['Subject', 'Research Group', 'Age', 'Sex']\n",
    "\n",
    "# Select these columns from both dataframes\n",
    "selected_old_data = old_data[subject_columns]\n",
    "selected_new_data = new_data[subject_columns]\n",
    "\n",
    "# Concatenate the two dataframes\n",
    "df = pd.concat([selected_old_data, selected_new_data], ignore_index=True)\n",
    "\n",
    "# Remove duplicates to ensure each row is unique\n",
    "df = df.drop_duplicates()\n",
    "\n",
    "# Optionally, you can sort the dataframe based on one or more columns\n",
    "df.sort_values(by=['Subject', 'Age'], inplace=True)\n",
    "\n",
    "# Display the first few rows to verify\n",
    "print(df.head())\n"
   ]
  },
  {
   "cell_type": "code",
   "execution_count": 63,
   "metadata": {},
   "outputs": [
    {
     "data": {
      "text/html": [
       "<div>\n",
       "<style scoped>\n",
       "    .dataframe tbody tr th:only-of-type {\n",
       "        vertical-align: middle;\n",
       "    }\n",
       "\n",
       "    .dataframe tbody tr th {\n",
       "        vertical-align: top;\n",
       "    }\n",
       "\n",
       "    .dataframe thead th {\n",
       "        text-align: right;\n",
       "    }\n",
       "</style>\n",
       "<table border=\"1\" class=\"dataframe\">\n",
       "  <thead>\n",
       "    <tr style=\"text-align: right;\">\n",
       "      <th></th>\n",
       "      <th>Subject</th>\n",
       "      <th>Research Group</th>\n",
       "      <th>Age</th>\n",
       "      <th>Sex</th>\n",
       "    </tr>\n",
       "  </thead>\n",
       "  <tbody>\n",
       "    <tr>\n",
       "      <th>0</th>\n",
       "      <td>002_S_0295</td>\n",
       "      <td>CN</td>\n",
       "      <td>90.0</td>\n",
       "      <td>M</td>\n",
       "    </tr>\n",
       "    <tr>\n",
       "      <th>2</th>\n",
       "      <td>002_S_0413</td>\n",
       "      <td>CN</td>\n",
       "      <td>81.5</td>\n",
       "      <td>F</td>\n",
       "    </tr>\n",
       "    <tr>\n",
       "      <th>4</th>\n",
       "      <td>002_S_0685</td>\n",
       "      <td>CN</td>\n",
       "      <td>95.8</td>\n",
       "      <td>F</td>\n",
       "    </tr>\n",
       "    <tr>\n",
       "      <th>6</th>\n",
       "      <td>002_S_1261</td>\n",
       "      <td>CN</td>\n",
       "      <td>75.3</td>\n",
       "      <td>F</td>\n",
       "    </tr>\n",
       "    <tr>\n",
       "      <th>8</th>\n",
       "      <td>002_S_1280</td>\n",
       "      <td>CN</td>\n",
       "      <td>75.1</td>\n",
       "      <td>F</td>\n",
       "    </tr>\n",
       "    <tr>\n",
       "      <th>...</th>\n",
       "      <td>...</td>\n",
       "      <td>...</td>\n",
       "      <td>...</td>\n",
       "      <td>...</td>\n",
       "    </tr>\n",
       "    <tr>\n",
       "      <th>748</th>\n",
       "      <td>941_S_6052</td>\n",
       "      <td>MCI</td>\n",
       "      <td>88.2</td>\n",
       "      <td>F</td>\n",
       "    </tr>\n",
       "    <tr>\n",
       "      <th>749</th>\n",
       "      <td>941_S_6068</td>\n",
       "      <td>MCI</td>\n",
       "      <td>75.8</td>\n",
       "      <td>M</td>\n",
       "    </tr>\n",
       "    <tr>\n",
       "      <th>750</th>\n",
       "      <td>941_S_6345</td>\n",
       "      <td>MCI</td>\n",
       "      <td>79.3</td>\n",
       "      <td>M</td>\n",
       "    </tr>\n",
       "    <tr>\n",
       "      <th>751</th>\n",
       "      <td>941_S_6803</td>\n",
       "      <td>MCI</td>\n",
       "      <td>75.1</td>\n",
       "      <td>F</td>\n",
       "    </tr>\n",
       "    <tr>\n",
       "      <th>752</th>\n",
       "      <td>941_S_7041</td>\n",
       "      <td>MCI</td>\n",
       "      <td>73.4</td>\n",
       "      <td>F</td>\n",
       "    </tr>\n",
       "  </tbody>\n",
       "</table>\n",
       "<p>677 rows × 4 columns</p>\n",
       "</div>"
      ],
      "text/plain": [
       "        Subject Research Group   Age Sex\n",
       "0    002_S_0295             CN  90.0   M\n",
       "2    002_S_0413             CN  81.5   F\n",
       "4    002_S_0685             CN  95.8   F\n",
       "6    002_S_1261             CN  75.3   F\n",
       "8    002_S_1280             CN  75.1   F\n",
       "..          ...            ...   ...  ..\n",
       "748  941_S_6052            MCI  88.2   F\n",
       "749  941_S_6068            MCI  75.8   M\n",
       "750  941_S_6345            MCI  79.3   M\n",
       "751  941_S_6803            MCI  75.1   F\n",
       "752  941_S_7041            MCI  73.4   F\n",
       "\n",
       "[677 rows x 4 columns]"
      ]
     },
     "execution_count": 63,
     "metadata": {},
     "output_type": "execute_result"
    }
   ],
   "source": [
    "df"
   ]
  },
  {
   "cell_type": "code",
   "execution_count": 64,
   "metadata": {},
   "outputs": [
    {
     "name": "stdout",
     "output_type": "stream",
     "text": [
      "CN      280\n",
      "MCI     280\n",
      "EMCI     73\n",
      "SMC      23\n",
      "AD       21\n",
      "Name: Research Group, dtype: int64\n"
     ]
    }
   ],
   "source": [
    "# Replace 'LMCI' with 'MCI' in the 'Research Group' column\n",
    "df['Research Group'] = df['Research Group'].replace('LMCI', 'MCI')\n",
    "\n",
    "# Verify the change by displaying the counts of each Research Group again\n",
    "print(df['Research Group'].value_counts())\n"
   ]
  },
  {
   "cell_type": "code",
   "execution_count": 65,
   "metadata": {},
   "outputs": [
    {
     "name": "stdout",
     "output_type": "stream",
     "text": [
      "      Subject Research Group   Age Sex\n",
      "0  002_S_0295             CN  90.0   M\n",
      "2  002_S_0413             CN  81.5   F\n",
      "4  002_S_0685             CN  95.8   F\n",
      "6  002_S_1261             CN  75.3   F\n",
      "8  002_S_1280             CN  75.1   F\n",
      "CN     280\n",
      "MCI    280\n",
      "Name: Research Group, dtype: int64\n"
     ]
    }
   ],
   "source": [
    "# Filter the DataFrame to include only rows where 'Research Group' is 'MCI' or 'CN'\n",
    "filtered_df = df[df['Research Group'].isin(['MCI', 'CN'])]\n",
    "\n",
    "# Display the first few rows to verify the filtering\n",
    "print(filtered_df.head())\n",
    "\n",
    "# Optionally, check the counts of each Research Group to confirm the filter\n",
    "print(filtered_df['Research Group'].value_counts())\n"
   ]
  },
  {
   "cell_type": "code",
   "execution_count": 67,
   "metadata": {},
   "outputs": [
    {
     "name": "stdout",
     "output_type": "stream",
     "text": [
      "<class 'pandas.core.frame.DataFrame'>\n",
      "Int64Index: 560 entries, 0 to 752\n",
      "Data columns (total 4 columns):\n",
      " #   Column          Non-Null Count  Dtype  \n",
      "---  ------          --------------  -----  \n",
      " 0   Subject         560 non-null    object \n",
      " 1   Research Group  560 non-null    object \n",
      " 2   Age             560 non-null    float64\n",
      " 3   Sex             560 non-null    object \n",
      "dtypes: float64(1), object(3)\n",
      "memory usage: 21.9+ KB\n"
     ]
    }
   ],
   "source": [
    "filtered_df.info()"
   ]
  },
  {
   "cell_type": "code",
   "execution_count": 69,
   "metadata": {},
   "outputs": [
    {
     "name": "stdout",
     "output_type": "stream",
     "text": [
      "train         392\n",
      "test          112\n",
      "validation     56\n",
      "Name: dataset_split, dtype: int64\n",
      "Research Group  dataset_split\n",
      "CN              test              56\n",
      "                train            196\n",
      "                validation        28\n",
      "MCI             test              56\n",
      "                train            196\n",
      "                validation        28\n",
      "dtype: int64\n"
     ]
    },
    {
     "name": "stderr",
     "output_type": "stream",
     "text": [
      "C:\\Users\\Micha\\AppData\\Local\\Temp\\ipykernel_93532\\3775637731.py:11: SettingWithCopyWarning: \n",
      "A value is trying to be set on a copy of a slice from a DataFrame.\n",
      "Try using .loc[row_indexer,col_indexer] = value instead\n",
      "\n",
      "See the caveats in the documentation: https://pandas.pydata.org/pandas-docs/stable/user_guide/indexing.html#returning-a-view-versus-a-copy\n",
      "  filtered_df['dataset_split'] = None\n"
     ]
    }
   ],
   "source": [
    "import pandas as pd\n",
    "from sklearn.model_selection import StratifiedShuffleSplit\n",
    "\n",
    "# Reset the index of filtered_df to ensure continuity and proper alignment\n",
    "filtered_df.reset_index(drop=True, inplace=True)\n",
    "\n",
    "# Initialize the StratifiedShuffleSplit object for the first split (train_val/test)\n",
    "splitter = StratifiedShuffleSplit(n_splits=1, test_size=0.2, random_state=42)\n",
    "\n",
    "# Create a new column for the dataset split tags\n",
    "filtered_df['dataset_split'] = None\n",
    "\n",
    "# First, split into test and the combined train/validation sets\n",
    "for train_val_idx, test_idx in splitter.split(filtered_df, filtered_df['Research Group']):\n",
    "    filtered_df.loc[test_idx, 'dataset_split'] = 'test'\n",
    "    train_val_set = filtered_df.loc[train_val_idx]\n",
    "\n",
    "# Now, split the train_val_set into training and validation\n",
    "# Note: To achieve 70% train and 10% validation of the total dataset, we set validation to be 1/8 (12.5%) of the 80% train_val_set\n",
    "splitter = StratifiedShuffleSplit(n_splits=1, test_size=1/8, random_state=42)  # 0.125 x 0.8 = 0.1 (10%)\n",
    "for train_idx, val_idx in splitter.split(train_val_set, train_val_set['Research Group']):\n",
    "    filtered_df.loc[train_val_set.index[train_idx], 'dataset_split'] = 'train'\n",
    "    filtered_df.loc[train_val_set.index[val_idx], 'dataset_split'] = 'validation'\n",
    "\n",
    "# Check the distribution of each dataset split within each research group\n",
    "print(filtered_df['dataset_split'].value_counts())\n",
    "print(filtered_df.groupby(['Research Group', 'dataset_split']).size())\n"
   ]
  },
  {
   "cell_type": "code",
   "execution_count": 70,
   "metadata": {},
   "outputs": [
    {
     "name": "stdout",
     "output_type": "stream",
     "text": [
      "                    Number_of_Subjects Average_Age_with_Std\n",
      "Research Group Sex                                         \n",
      "CN             F                   138           75.9 ± 6.7\n",
      "               M                   142           77.5 ± 6.3\n",
      "MCI            F                   112           73.5 ± 8.4\n",
      "               M                   168           75.6 ± 7.5\n"
     ]
    }
   ],
   "source": [
    "import pandas as pd\n",
    "\n",
    "# Grouping by Research Group and Sex, and then aggregating\n",
    "descriptive_stats = filtered_df.groupby(['Research Group', 'Sex']).agg(\n",
    "    Number_of_Subjects=pd.NamedAgg(column='Subject', aggfunc='count'),\n",
    "    Average_Age=pd.NamedAgg(column='Age', aggfunc='mean'),\n",
    "    Age_Std_Dev=pd.NamedAgg(column='Age', aggfunc='std')\n",
    ")\n",
    "\n",
    "# Formatting the Average Age and Standard Deviation\n",
    "descriptive_stats['Average_Age'] = descriptive_stats['Average_Age'].round(1)\n",
    "descriptive_stats['Age_Std_Dev'] = descriptive_stats['Age_Std_Dev'].round(1)\n",
    "descriptive_stats['Average_Age_with_Std'] = descriptive_stats['Average_Age'].astype(str) + ' ± ' + descriptive_stats['Age_Std_Dev'].astype(str)\n",
    "\n",
    "# Display the descriptive statistics table\n",
    "print(descriptive_stats[['Number_of_Subjects', 'Average_Age_with_Std']])\n"
   ]
  },
  {
   "cell_type": "code",
   "execution_count": 72,
   "metadata": {},
   "outputs": [
    {
     "name": "stdout",
     "output_type": "stream",
     "text": [
      "                              Number_of_Subjects Average_Age_with_Std\n",
      "Research Group dataset_split                                         \n",
      "CN             test                           56           75.9 ± 6.4\n",
      "               train                         196           76.9 ± 6.4\n",
      "               validation                     28           77.0 ± 7.6\n",
      "MCI            test                           56           75.5 ± 8.0\n",
      "               train                         196           74.5 ± 8.0\n",
      "               validation                     28           75.1 ± 7.6\n"
     ]
    }
   ],
   "source": [
    "import pandas as pd\n",
    "\n",
    "# Grouping by Research Group and dataset_split, and then aggregating\n",
    "group_split_stats = filtered_df.groupby(['Research Group', 'dataset_split']).agg(\n",
    "    Number_of_Subjects=pd.NamedAgg(column='Subject', aggfunc='count'),\n",
    "    Average_Age=pd.NamedAgg(column='Age', aggfunc='mean'),\n",
    "    Age_Std_Dev=pd.NamedAgg(column='Age', aggfunc='std')\n",
    ")\n",
    "\n",
    "# Formatting the Average Age and Standard Deviation\n",
    "group_split_stats['Average_Age'] = group_split_stats['Average_Age'].round(1)\n",
    "group_split_stats['Age_Std_Dev'] = group_split_stats['Age_Std_Dev'].round(1)\n",
    "group_split_stats['Average_Age_with_Std'] = group_split_stats['Average_Age'].astype(str) + ' ± ' + group_split_stats['Age_Std_Dev'].astype(str)\n",
    "\n",
    "# Display the descriptive statistics table\n",
    "print(group_split_stats[['Number_of_Subjects', 'Average_Age_with_Std']])\n"
   ]
  },
  {
   "cell_type": "code",
   "execution_count": null,
   "metadata": {},
   "outputs": [],
   "source": []
  }
 ],
 "metadata": {
  "kernelspec": {
   "display_name": "Python 3",
   "language": "python",
   "name": "python3"
  },
  "language_info": {
   "codemirror_mode": {
    "name": "ipython",
    "version": 3
   },
   "file_extension": ".py",
   "mimetype": "text/x-python",
   "name": "python",
   "nbconvert_exporter": "python",
   "pygments_lexer": "ipython3",
   "version": "3.8.10"
  }
 },
 "nbformat": 4,
 "nbformat_minor": 2
}
