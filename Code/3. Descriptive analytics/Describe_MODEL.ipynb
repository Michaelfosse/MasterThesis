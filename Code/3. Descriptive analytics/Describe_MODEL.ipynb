{
 "cells": [
  {
   "cell_type": "code",
   "execution_count": 24,
   "metadata": {},
   "outputs": [],
   "source": [
    "import tensorflow as tf\n",
    "from tensorflow.keras import layers, models\n",
    "\n",
    "class VGG3D(tf.keras.Model):\n",
    "    def __init__(self, num_classes=2, input_shape=(110, 110, 110, 1)):\n",
    "        super(VGG3D, self).__init__()\n",
    "        \n",
    "        self.conv1 = tf.keras.Sequential([\n",
    "            layers.Conv3D(8, (3, 3, 3), padding='same', activation='relu', input_shape=input_shape),\n",
    "            layers.Conv3D(8, (3, 3, 3), padding='same', activation='relu'),\n",
    "            layers.MaxPooling3D((2, 2, 2), strides=2)\n",
    "        ])\n",
    "        \n",
    "        self.conv2 = tf.keras.Sequential([\n",
    "            layers.Conv3D(16, (3, 3, 3), padding='same', activation='relu'),\n",
    "            layers.Conv3D(16, (3, 3, 3), padding='same', activation='relu'),\n",
    "            layers.MaxPooling3D((2, 2, 2), strides=2)\n",
    "        ])\n",
    "        \n",
    "        self.conv3 = tf.keras.Sequential([\n",
    "            layers.Conv3D(32, (3, 3, 3), padding='same', activation='relu'),\n",
    "            layers.Conv3D(32, (3, 3, 3), padding='same', activation='relu'),\n",
    "            layers.Conv3D(32, (3, 3, 3), padding='same', activation='relu'),\n",
    "            layers.MaxPooling3D((2, 2, 2), strides=2)\n",
    "        ])\n",
    "        \n",
    "        self.conv4 = tf.keras.Sequential([\n",
    "            layers.Conv3D(64, (3, 3, 3), padding='same', activation='relu'),\n",
    "            layers.Conv3D(64, (3, 3, 3), padding='same', activation='relu'),\n",
    "            layers.Conv3D(64, (3, 3, 3), padding='same', activation='relu'),\n",
    "            layers.MaxPooling3D((2, 2, 2), strides=2)\n",
    "        ])\n",
    "        \n",
    "        self.fc1 = tf.keras.Sequential([\n",
    "            layers.Dense(128, activation='relu'),\n",
    "            layers.BatchNormalization(),\n",
    "            layers.Dropout(0.8)\n",
    "        ])\n",
    "        \n",
    "        self.fc2 = tf.keras.Sequential([\n",
    "            layers.Dense(64, activation='relu'),\n",
    "            layers.BatchNormalization()\n",
    "        ])\n",
    "        \n",
    "        self.out = layers.Dense(num_classes, activation='sigmoid' if num_classes == 2 else 'softmax')\n",
    "\n",
    "    def call(self, inputs):\n",
    "        x = self.conv1(inputs)\n",
    "        x = self.conv2(x)\n",
    "        x = self.conv3(x)\n",
    "        x = self.conv4(x)\n",
    "        x = layers.Flatten()(x)\n",
    "        x = self.fc1(x)\n",
    "        x = self.fc2(x)\n",
    "        return self.out(x)\n",
    "\n",
    "# Create an instance of the model\n",
    "model = VGG3D()\n"
   ]
  },
  {
   "cell_type": "code",
   "execution_count": 25,
   "metadata": {},
   "outputs": [
    {
     "data": {
      "text/plain": [
       "<tf.Tensor: shape=(1, 2), dtype=float32, numpy=array([[0.5010237 , 0.50081235]], dtype=float32)>"
      ]
     },
     "execution_count": 25,
     "metadata": {},
     "output_type": "execute_result"
    }
   ],
   "source": [
    "import numpy as np\n",
    "\n",
    "# Create a dummy batch of data with the correct input shape\n",
    "dummy_input = np.random.random((1, 110, 110, 110, 1))  # Batch size of 1\n",
    "model(dummy_input)  # Call the model to build it\n"
   ]
  },
  {
   "cell_type": "code",
   "execution_count": 28,
   "metadata": {},
   "outputs": [
    {
     "ename": "AttributeError",
     "evalue": "'Dense' object has no attribute 'output_shape'",
     "output_type": "error",
     "traceback": [
      "\u001b[1;31m---------------------------------------------------------------------------\u001b[0m",
      "\u001b[1;31mAttributeError\u001b[0m                            Traceback (most recent call last)",
      "Cell \u001b[1;32mIn[28], line 3\u001b[0m\n\u001b[0;32m      1\u001b[0m \u001b[38;5;28;01mimport\u001b[39;00m \u001b[38;5;21;01mvisualkeras\u001b[39;00m\n\u001b[1;32m----> 3\u001b[0m \u001b[43mvisualkeras\u001b[49m\u001b[38;5;241;43m.\u001b[39;49m\u001b[43mlayered_view\u001b[49m\u001b[43m(\u001b[49m\u001b[43mmodel\u001b[49m\u001b[43m)\u001b[49m\u001b[38;5;241m.\u001b[39mshow() \u001b[38;5;66;03m# display using your system viewer\u001b[39;00m\n\u001b[0;32m      4\u001b[0m visualkeras\u001b[38;5;241m.\u001b[39mlayered_view(model, to_file\u001b[38;5;241m=\u001b[39m\u001b[38;5;124m'\u001b[39m\u001b[38;5;124moutput.png\u001b[39m\u001b[38;5;124m'\u001b[39m) \u001b[38;5;66;03m# write to disk\u001b[39;00m\n\u001b[0;32m      5\u001b[0m visualkeras\u001b[38;5;241m.\u001b[39mlayered_view(model, to_file\u001b[38;5;241m=\u001b[39m\u001b[38;5;124m'\u001b[39m\u001b[38;5;124moutput.png\u001b[39m\u001b[38;5;124m'\u001b[39m)\u001b[38;5;241m.\u001b[39mshow() \u001b[38;5;66;03m# write and show\u001b[39;00m\n",
      "File \u001b[1;32mc:\\Users\\Micha\\.pyenv\\pyenv-win\\versions\\3.10.10\\lib\\site-packages\\visualkeras\\layered.py:85\u001b[0m, in \u001b[0;36mlayered_view\u001b[1;34m(model, to_file, min_z, min_xy, max_z, max_xy, scale_z, scale_xy, type_ignore, index_ignore, color_map, one_dim_orientation, background_fill, draw_volume, padding, spacing, draw_funnel, shade_step, legend, font, font_color)\u001b[0m\n\u001b[0;32m     82\u001b[0m y \u001b[38;5;241m=\u001b[39m min_xy\n\u001b[0;32m     83\u001b[0m z \u001b[38;5;241m=\u001b[39m min_z\n\u001b[1;32m---> 85\u001b[0m \u001b[38;5;28;01mif\u001b[39;00m \u001b[38;5;28misinstance\u001b[39m(\u001b[43mlayer\u001b[49m\u001b[38;5;241;43m.\u001b[39;49m\u001b[43moutput_shape\u001b[49m, \u001b[38;5;28mtuple\u001b[39m):\n\u001b[0;32m     86\u001b[0m     shape \u001b[38;5;241m=\u001b[39m layer\u001b[38;5;241m.\u001b[39moutput_shape\n\u001b[0;32m     87\u001b[0m \u001b[38;5;28;01melif\u001b[39;00m \u001b[38;5;28misinstance\u001b[39m(layer\u001b[38;5;241m.\u001b[39moutput_shape, \u001b[38;5;28mlist\u001b[39m) \u001b[38;5;129;01mand\u001b[39;00m \u001b[38;5;28mlen\u001b[39m(\n\u001b[0;32m     88\u001b[0m         layer\u001b[38;5;241m.\u001b[39moutput_shape) \u001b[38;5;241m==\u001b[39m \u001b[38;5;241m1\u001b[39m:  \u001b[38;5;66;03m# drop dimension for non seq. models\u001b[39;00m\n",
      "\u001b[1;31mAttributeError\u001b[0m: 'Dense' object has no attribute 'output_shape'"
     ]
    }
   ],
   "source": [
    "import visualkeras\n",
    "\n",
    "visualkeras.layered_view(model).show() # display using your system viewer\n",
    "visualkeras.layered_view(model, to_file='output.png') # write to disk\n",
    "visualkeras.layered_view(model, to_file='output.png').show() # write and show\n",
    "\n",
    "visualkeras.layered_view(model)"
   ]
  },
  {
   "cell_type": "code",
   "execution_count": 26,
   "metadata": {},
   "outputs": [
    {
     "data": {
      "image/png": "[encoded data removed]",
      "text/plain": [
       "<IPython.core.display.Image object>"
      ]
     },
     "execution_count": 26,
     "metadata": {},
     "output_type": "execute_result"
    }
   ],
   "source": [
    "import os\n",
    "\n",
    "# Example path to Graphviz bin, adjust as necessary to your actual path\n",
    "graphviz_path = r\"D:\\Downloads\\windows_10_cmake_Release_Graphviz-11.0.0-win64\\Graphviz-11.0.0-win64\\bin\"\n",
    "os.environ[\"PATH\"] += os.pathsep + graphviz_path\n",
    "\n",
    "# Now try to plot the model\n",
    "from tensorflow.keras.utils import plot_model\n",
    "plot_model(model, to_file='model.png', show_shapes=True, show_layer_names=True)\n"
   ]
  },
  {
   "cell_type": "code",
   "execution_count": null,
   "metadata": {},
   "outputs": [],
   "source": []
  }
 ],
 "metadata": {
  "kernelspec": {
   "display_name": "Python 3",
   "language": "python",
   "name": "python3"
  },
  "language_info": {
   "codemirror_mode": {
    "name": "ipython",
    "version": 3
   },
   "file_extension": ".py",
   "mimetype": "text/x-python",
   "name": "python",
   "nbconvert_exporter": "python",
   "pygments_lexer": "ipython3",
   "version": "3.10.10"
  }
 },
 "nbformat": 4,
 "nbformat_minor": 2
}
